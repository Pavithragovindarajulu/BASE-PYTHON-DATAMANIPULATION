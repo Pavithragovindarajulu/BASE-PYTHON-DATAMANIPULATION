{
 "cells": [
  {
   "cell_type": "markdown",
   "id": "a757ea28",
   "metadata": {},
   "source": [
    "# BASIC PYTHON DATAMANIPULATION OBJECTIVES:"
   ]
  },
  {
   "cell_type": "markdown",
   "id": "aa829347",
   "metadata": {},
   "source": [
    "## Conditional Statement : if, elif, else, nested"
   ]
  },
  {
   "cell_type": "markdown",
   "id": "e71cecd8",
   "metadata": {},
   "source": [
    "### Question No(1) write a program that takes an integer as input and prints whether it is an odd or even number?"
   ]
  },
  {
   "cell_type": "code",
   "execution_count": 1,
   "id": "03bb8fc7",
   "metadata": {},
   "outputs": [
    {
     "name": "stdout",
     "output_type": "stream",
     "text": [
      "Enter a number:45\n",
      "Number is Odd\n"
     ]
    }
   ],
   "source": [
    "num=int(input(\"Enter a number:\"))\n",
    "if num%2==0:\n",
    "    print(\"Number is Even\")\n",
    "else:\n",
    "    print(\"Number is Odd\")"
   ]
  },
  {
   "cell_type": "markdown",
   "id": "176591b8",
   "metadata": {},
   "source": [
    "### Question No(2) write a program that check whether a given year is leap year?"
   ]
  },
  {
   "cell_type": "code",
   "execution_count": 2,
   "id": "f16418ab",
   "metadata": {},
   "outputs": [
    {
     "name": "stdout",
     "output_type": "stream",
     "text": [
      "Enter the year:2024\n",
      "The year is leap year\n"
     ]
    }
   ],
   "source": [
    "Year=int(input(\"Enter the year:\"))\n",
    "if Year%4==0:\n",
    "    print(\"The year is leap year\")\n",
    "else:\n",
    "    print(\"The year is not a leap year\")"
   ]
  },
  {
   "cell_type": "markdown",
   "id": "d845d271",
   "metadata": {},
   "source": [
    "### Question No(3)write a program to check whether a person is eligible to vote?"
   ]
  },
  {
   "cell_type": "code",
   "execution_count": 3,
   "id": "e9e0a89a",
   "metadata": {},
   "outputs": [
    {
     "name": "stdout",
     "output_type": "stream",
     "text": [
      "Enter the age:21\n",
      "Eligible to vote\n"
     ]
    }
   ],
   "source": [
    "Age=int(input(\"Enter the age:\"))\n",
    "if Age>=18:\n",
    "    print(\"Eligible to vote\")\n",
    "else:\n",
    "    print(\"Not Eligible to vote\")"
   ]
  },
  {
   "cell_type": "markdown",
   "id": "77bf824b",
   "metadata": {},
   "source": [
    "### Question No(4) write a program  determining whether a given number is positive,negative or zero?"
   ]
  },
  {
   "cell_type": "code",
   "execution_count": 5,
   "id": "83f69f9c",
   "metadata": {},
   "outputs": [
    {
     "name": "stdout",
     "output_type": "stream",
     "text": [
      "enter the number:-22\n",
      "-22 is negative number\n"
     ]
    }
   ],
   "source": [
    "num=int(input(\"enter the number:\"))\n",
    "if num==0:\n",
    "    print(num,\"is zero\")\n",
    "elif num<0:\n",
    "    print(num,\"is negative number\")\n",
    "else:\n",
    "    print(num,\"is positive number\")"
   ]
  },
  {
   "cell_type": "markdown",
   "id": "f55e8719",
   "metadata": {},
   "source": [
    "### Question No(5) write a program that take a student's score as input and print their grade(A,B,C,D,E,F )based on the score."
   ]
  },
  {
   "cell_type": "code",
   "execution_count": 6,
   "id": "b287cb00",
   "metadata": {},
   "outputs": [
    {
     "name": "stdout",
     "output_type": "stream",
     "text": [
      "enter the score:56\n",
      "D grade\n"
     ]
    }
   ],
   "source": [
    "score=int(input(\"enter the score:\"))\n",
    "if score>=80:\n",
    "    print (\"A grade\")\n",
    "elif score>=70 and score<80:\n",
    "    print(\"B grade\")\n",
    "elif score>=60 and score<70:\n",
    "    print(\"C grade\")\n",
    "elif score>=50 and score<60:\n",
    "    print(\"D grade\")\n",
    "elif score>=40 and score<50:\n",
    "    print(\"E grade\")\n",
    "else:\n",
    "    print(\"F grade\")"
   ]
  },
  {
   "cell_type": "markdown",
   "id": "9104b7a2",
   "metadata": {},
   "source": [
    "### Question No(6) create a simple calculator program with a menu that allows users to perform addition,subtraction,multiplication,division based on their choice?\n"
   ]
  },
  {
   "cell_type": "code",
   "execution_count": 7,
   "id": "98818f2e",
   "metadata": {},
   "outputs": [
    {
     "name": "stdout",
     "output_type": "stream",
     "text": [
      "enter the num1:75\n",
      "enter the num2:5\n",
      "multiplication 375\n"
     ]
    }
   ],
   "source": [
    "a=int(input(\"enter the num1:\"))\n",
    "b=int(input(\"enter the num2:\"))\n",
    "if type(a)==int and type(b)==int:\n",
    "    print(\"multiplication\",a*b)\n",
    "elif a/b:\n",
    "    print(\"division\",a/b)\n",
    "elif a+b:\n",
    "    print(\"addition\",a+b)\n",
    "elif a-b:\n",
    "    print(\"subtraction\",a-b)\n",
    "else:\n",
    "    print(\"no calculation\")"
   ]
  },
  {
   "cell_type": "markdown",
   "id": "6e85cbd8",
   "metadata": {},
   "source": [
    "### Question No(7) write a program that find and print the greatest number among three input numbers?"
   ]
  },
  {
   "cell_type": "code",
   "execution_count": 8,
   "id": "df61e31c",
   "metadata": {},
   "outputs": [
    {
     "name": "stdout",
     "output_type": "stream",
     "text": [
      "enter first number12\n",
      "enter second number41\n",
      "enter third number45\n",
      "45 is greatest.\n"
     ]
    }
   ],
   "source": [
    "a = int(input(\"enter first number\"))\n",
    "b = int(input(\"enter second number\"))\n",
    "c = int(input(\"enter third number\"))\n",
    "if a> b and a>c:\n",
    "    print(a,\"is greatest.\")\n",
    "elif b> a and b>c:\n",
    "    print(b,\"is greatest.\")\n",
    "else:\n",
    "    print(c,\"is greatest.\")"
   ]
  },
  {
   "cell_type": "markdown",
   "id": "dd26d8b9",
   "metadata": {},
   "source": [
    "### Question No(8) names = ['Kajol',23,42,'Dhivya',35,'Jyothi',40,'Gaya',81,'Pavithra',90,'Shiny',49,'Rasika'] Print only the even numbers present in the given list?"
   ]
  },
  {
   "cell_type": "code",
   "execution_count": 10,
   "id": "ab1459d5",
   "metadata": {},
   "outputs": [
    {
     "name": "stdout",
     "output_type": "stream",
     "text": [
      "42\n",
      "40\n",
      "90\n"
     ]
    }
   ],
   "source": [
    "names = ['Kajol',23,42,'Dhivya',35,'Jyothi',40,'Gaya',81,'Pavithra',90,'Shiny',49,'Rasika']\n",
    "\n",
    "for value in names:\n",
    "    if type(value) == int:\n",
    "        if value%2==0:\n",
    "            print(value)"
   ]
  },
  {
   "cell_type": "markdown",
   "id": "3c27a8d8",
   "metadata": {},
   "source": [
    "### Question No(9) write a program that find and print x=10 and y=5 these values agree the condition that x>5 and y>2? "
   ]
  },
  {
   "cell_type": "code",
   "execution_count": 15,
   "id": "db8f4d4f",
   "metadata": {},
   "outputs": [
    {
     "name": "stdout",
     "output_type": "stream",
     "text": [
      "Both conditions are true.\n"
     ]
    }
   ],
   "source": [
    "x= 10\n",
    "y= 5\n",
    "if  x>5:\n",
    "    if y>2:\n",
    "        print(\"Both conditions are true.\")\n",
    "    else:\n",
    "        print(\"Second condition is false.\")\n",
    "else:\n",
    "    print(\"First condition is false.\")"
   ]
  },
  {
   "cell_type": "markdown",
   "id": "2f653a7f",
   "metadata": {},
   "source": [
    "## String Indexing "
   ]
  },
  {
   "cell_type": "markdown",
   "id": "fc1e3931",
   "metadata": {},
   "source": [
    "### Question No(10) c ='Shah Rukh Khan' convert the string into list and convert back to orginal string?"
   ]
  },
  {
   "cell_type": "code",
   "execution_count": 87,
   "id": "2a3230bb",
   "metadata": {},
   "outputs": [
    {
     "data": {
      "text/plain": [
       "['S', 'h', 'a', 'h', ' ', 'R', 'u', 'k', 'h', ' ', 'K', 'h', 'a', 'n']"
      ]
     },
     "execution_count": 87,
     "metadata": {},
     "output_type": "execute_result"
    }
   ],
   "source": [
    "c ='Shah Rukh Khan' # string into list\n",
    "list(c)"
   ]
  },
  {
   "cell_type": "code",
   "execution_count": 92,
   "id": "a267543b",
   "metadata": {},
   "outputs": [
    {
     "name": "stdout",
     "output_type": "stream",
     "text": [
      "Shah Rukh Khan\n"
     ]
    }
   ],
   "source": [
    "name=''\n",
    "final_name=name.join(list(c))\n",
    "print(final_name)"
   ]
  },
  {
   "cell_type": "markdown",
   "id": "2ef92281",
   "metadata": {},
   "source": [
    "### Question No(11)  c='Salman Khan' display only 'Salman'?"
   ]
  },
  {
   "cell_type": "code",
   "execution_count": 99,
   "id": "051aa9d2",
   "metadata": {},
   "outputs": [],
   "source": [
    "c='Salman Khan' "
   ]
  },
  {
   "cell_type": "code",
   "execution_count": 100,
   "id": "6bc5e405",
   "metadata": {},
   "outputs": [
    {
     "data": {
      "text/plain": [
       "'Salman'"
      ]
     },
     "execution_count": 100,
     "metadata": {},
     "output_type": "execute_result"
    }
   ],
   "source": [
    "c[0:6]"
   ]
  },
  {
   "cell_type": "markdown",
   "id": "54eafc1f",
   "metadata": {},
   "source": [
    "### Question No(12) d=(10,20,30,40,50,60,70,80,90,100) display only even index values?"
   ]
  },
  {
   "cell_type": "code",
   "execution_count": 101,
   "id": "bc573ead",
   "metadata": {},
   "outputs": [],
   "source": [
    "d=(10,20,30,40,50,60,70,80,90,100) "
   ]
  },
  {
   "cell_type": "code",
   "execution_count": 102,
   "id": "aba3e12e",
   "metadata": {},
   "outputs": [
    {
     "data": {
      "text/plain": [
       "(10, 30, 50, 70, 90)"
      ]
     },
     "execution_count": 102,
     "metadata": {},
     "output_type": "execute_result"
    }
   ],
   "source": [
    "d[0:10:2]"
   ]
  },
  {
   "cell_type": "markdown",
   "id": "4871da51",
   "metadata": {},
   "source": [
    "### Question No(13) m= ['gaya',23,'yash',24,'vijay',25,'shiny',26] get only the integers?"
   ]
  },
  {
   "cell_type": "code",
   "execution_count": 108,
   "id": "00d7fa70",
   "metadata": {},
   "outputs": [
    {
     "data": {
      "text/plain": [
       "8"
      ]
     },
     "execution_count": 108,
     "metadata": {},
     "output_type": "execute_result"
    }
   ],
   "source": [
    "m= ['gaya',23,'yash',24,'vijay',25,'shiny',26] \n",
    "\n",
    "len(m)"
   ]
  },
  {
   "cell_type": "code",
   "execution_count": 109,
   "id": "81c3c5ff",
   "metadata": {},
   "outputs": [
    {
     "name": "stdout",
     "output_type": "stream",
     "text": [
      "23\n",
      "24\n",
      "25\n",
      "26\n"
     ]
    }
   ],
   "source": [
    "i=0\n",
    "while i<len(m):\n",
    "    if isinstance(m[i],int):\n",
    "        print(m[i])\n",
    "    i=i+1"
   ]
  },
  {
   "cell_type": "markdown",
   "id": "8dfd79d2",
   "metadata": {},
   "source": [
    "## Loop : While loop , For loop , Nested loop"
   ]
  },
  {
   "cell_type": "markdown",
   "id": "07050b80",
   "metadata": {},
   "source": [
    "**While loop**"
   ]
  },
  {
   "cell_type": "markdown",
   "id": "f6158906",
   "metadata": {},
   "source": [
    "### Question No(14) Print the table of 4 using while loop?"
   ]
  },
  {
   "cell_type": "code",
   "execution_count": 16,
   "id": "0096a125",
   "metadata": {},
   "outputs": [
    {
     "name": "stdout",
     "output_type": "stream",
     "text": [
      "4 * 1 = 4\n",
      "4 * 2 = 8\n",
      "4 * 3 = 12\n",
      "4 * 4 = 16\n",
      "4 * 5 = 20\n",
      "4 * 6 = 24\n",
      "4 * 7 = 28\n",
      "4 * 8 = 32\n",
      "4 * 9 = 36\n",
      "4 * 10 = 40\n"
     ]
    }
   ],
   "source": [
    "a = 1\n",
    "while a <= 10:\n",
    "    print(\"4 *\",a, \"=\", 4 * a )\n",
    "    a = a + 1 "
   ]
  },
  {
   "cell_type": "markdown",
   "id": "922f62d4",
   "metadata": {},
   "source": [
    "### Question No(15) print the even numbers till 100 using while numbers?"
   ]
  },
  {
   "cell_type": "code",
   "execution_count": 22,
   "id": "657e39a3",
   "metadata": {},
   "outputs": [
    {
     "name": "stdout",
     "output_type": "stream",
     "text": [
      "2\n",
      "4\n",
      "6\n",
      "8\n",
      "10\n",
      "12\n",
      "14\n",
      "16\n",
      "18\n",
      "20\n",
      "22\n",
      "24\n",
      "26\n",
      "28\n",
      "30\n",
      "32\n",
      "34\n",
      "36\n",
      "38\n",
      "40\n",
      "42\n",
      "44\n",
      "46\n",
      "48\n",
      "50\n",
      "52\n",
      "54\n",
      "56\n",
      "58\n",
      "60\n",
      "62\n",
      "64\n",
      "66\n",
      "68\n",
      "70\n",
      "72\n",
      "74\n",
      "76\n",
      "78\n",
      "80\n",
      "82\n",
      "84\n",
      "86\n",
      "88\n",
      "90\n",
      "92\n",
      "94\n",
      "96\n",
      "98\n",
      "100\n"
     ]
    }
   ],
   "source": [
    "a = 1\n",
    "while a <= 100:\n",
    "    if a % 2 == 0:\n",
    "        print(a)\n",
    "    a = a + 1"
   ]
  },
  {
   "cell_type": "markdown",
   "id": "40d4e2b1",
   "metadata": {},
   "source": [
    "### Question No(16) data = [88,39,80,31,70,90,100,121] Print only the odd values and their indexes from the given list using the while loop?"
   ]
  },
  {
   "cell_type": "code",
   "execution_count": 23,
   "id": "9274434c",
   "metadata": {},
   "outputs": [],
   "source": [
    " data = [88,39,80,31,70,90,100,121] "
   ]
  },
  {
   "cell_type": "code",
   "execution_count": 24,
   "id": "b59b2ae5",
   "metadata": {},
   "outputs": [
    {
     "name": "stdout",
     "output_type": "stream",
     "text": [
      "1 39\n",
      "3 31\n",
      "7 121\n"
     ]
    }
   ],
   "source": [
    "i = 0\n",
    "while i<8:                 \n",
    "    if data[i] % 2 != 0:   \n",
    "        print(i, data[i])\n",
    "    i = i + 1"
   ]
  },
  {
   "cell_type": "markdown",
   "id": "bcb867be",
   "metadata": {},
   "source": [
    "**For loop**"
   ]
  },
  {
   "cell_type": "markdown",
   "id": "706f9a77",
   "metadata": {},
   "source": [
    "### Question No(17) Factorial of any number using the for loop?"
   ]
  },
  {
   "cell_type": "code",
   "execution_count": 27,
   "id": "a4cc62a3",
   "metadata": {},
   "outputs": [
    {
     "name": "stdout",
     "output_type": "stream",
     "text": [
      "Enter a number:6\n",
      "720\n"
     ]
    }
   ],
   "source": [
    "a = int(input(\"Enter a number:\"))\n",
    "r = 1                                        \n",
    "for i in range(1,(a+1)):   \n",
    "    r = r * i\n",
    "print(r)"
   ]
  },
  {
   "cell_type": "markdown",
   "id": "5d2eeb79",
   "metadata": {},
   "source": [
    "### Question No(18) Take a input value from the users to check whether it is prime or not?"
   ]
  },
  {
   "cell_type": "code",
   "execution_count": 31,
   "id": "e6333aeb",
   "metadata": {},
   "outputs": [
    {
     "name": "stdout",
     "output_type": "stream",
     "text": [
      "enter a number:37\n",
      "number is prime\n"
     ]
    }
   ],
   "source": [
    "a =int(input(\"enter a number:\"))\n",
    "factor=0\n",
    "for i in range(1,1+a):\n",
    "       if a%i==0:\n",
    "        factor = factor+1\n",
    "        \n",
    "        \n",
    "if factor==2:\n",
    "       print(\"number is prime\")\n",
    "else:\n",
    "       print(\"number is not prime\")"
   ]
  },
  {
   "cell_type": "markdown",
   "id": "5000f0ba",
   "metadata": {},
   "source": [
    "### Question No(19) data = [88,39,80,31,70,90,100,121] Print only the odd numbers from the given list using the for loop?"
   ]
  },
  {
   "cell_type": "code",
   "execution_count": 32,
   "id": "65517eec",
   "metadata": {},
   "outputs": [
    {
     "name": "stdout",
     "output_type": "stream",
     "text": [
      "39\n",
      "31\n",
      "121\n"
     ]
    }
   ],
   "source": [
    "data = [88,39,80,31,70,90,100,121]\n",
    "\n",
    "for i in data:\n",
    "    if i%2!=0:  \n",
    "        print(i)"
   ]
  },
  {
   "cell_type": "markdown",
   "id": "fcd9e3fa",
   "metadata": {},
   "source": [
    "**Nested loop**"
   ]
  },
  {
   "cell_type": "markdown",
   "id": "45b3ac4f",
   "metadata": {},
   "source": [
    "### Question No(20) Get the sum of all the prime numbers between 1 to 100?"
   ]
  },
  {
   "cell_type": "code",
   "execution_count": 34,
   "id": "9f228a76",
   "metadata": {},
   "outputs": [
    {
     "name": "stdout",
     "output_type": "stream",
     "text": [
      "The sum of all prime numbers between 1 to 100 is:  1060\n"
     ]
    }
   ],
   "source": [
    "sum = 0\n",
    "for i in range (2,101):\n",
    "    count = 0       \n",
    "    for j in range(1, i+1):\n",
    "        if (i % j == 0):\n",
    "            count = count + 1\n",
    "    if count == 2:\n",
    "        sum= sum + i\n",
    "            \n",
    "            \n",
    "print(\"The sum of all prime numbers between 1 to 100 is: \", sum)"
   ]
  },
  {
   "cell_type": "markdown",
   "id": "ec7d8e39",
   "metadata": {},
   "source": [
    "### Question No(21) Make a floyd's triangle?"
   ]
  },
  {
   "cell_type": "code",
   "execution_count": 35,
   "id": "7a77f08b",
   "metadata": {},
   "outputs": [
    {
     "name": "stdout",
     "output_type": "stream",
     "text": [
      "\n",
      "1 \n",
      "2 3 \n",
      "4 5 6 \n",
      "7 8 9 10 \n"
     ]
    }
   ],
   "source": [
    "n=1\n",
    "for i in range(0,5):\n",
    "    for j in range (1,i+1):\n",
    "        print(n,end = \" \")\n",
    "        n +=1\n",
    "    print()"
   ]
  },
  {
   "cell_type": "markdown",
   "id": "f6287296",
   "metadata": {},
   "source": [
    "### Question No(22) Construct a Right angle triangle pattern for '#'?"
   ]
  },
  {
   "cell_type": "code",
   "execution_count": 37,
   "id": "ff333fa0",
   "metadata": {},
   "outputs": [
    {
     "name": "stdout",
     "output_type": "stream",
     "text": [
      "#\n",
      "##\n",
      "###\n",
      "####\n",
      "#####\n"
     ]
    }
   ],
   "source": [
    "for i in range(0,5):\n",
    "    for j in range(i+1):          \n",
    "        print('#',end = '')\n",
    "    print()"
   ]
  },
  {
   "cell_type": "markdown",
   "id": "f02fbd24",
   "metadata": {},
   "source": [
    "### Question No(23) Construct a Inverted right angled triangle?"
   ]
  },
  {
   "cell_type": "code",
   "execution_count": 38,
   "id": "e6e5d151",
   "metadata": {},
   "outputs": [
    {
     "name": "stdout",
     "output_type": "stream",
     "text": [
      "*****\n",
      "****\n",
      "***\n",
      "**\n",
      "*\n"
     ]
    }
   ],
   "source": [
    "for i in range(5,0,-1):\n",
    "    for j in range(i,0,-1):         \n",
    "        print('*',end = '')\n",
    "    print()"
   ]
  },
  {
   "cell_type": "markdown",
   "id": "4c1a219a",
   "metadata": {},
   "source": [
    "## Control Flow Statement : Break, Continue, Pass"
   ]
  },
  {
   "cell_type": "markdown",
   "id": "a272ef10",
   "metadata": {},
   "source": [
    "**Break is the terminator. it terminates the loop as soon as it gets executed**"
   ]
  },
  {
   "cell_type": "markdown",
   "id": "4437cc47",
   "metadata": {},
   "source": [
    "### Question No(24) Write a program to get the prime numbers between 1 to 100?"
   ]
  },
  {
   "cell_type": "code",
   "execution_count": 40,
   "id": "15b78226",
   "metadata": {},
   "outputs": [
    {
     "name": "stdout",
     "output_type": "stream",
     "text": [
      "2,3,5,7,11,13,17,19,23,29,31,37,41,43,47,53,59,61,67,71,73,79,83,89,97,"
     ]
    }
   ],
   "source": [
    "for i in range(2,100):          \n",
    "    for j in range(2,100):      \n",
    "        if i%j == 0:                \n",
    "            break\n",
    "    if i == j:\n",
    "        print(i,end=\",\")"
   ]
  },
  {
   "cell_type": "markdown",
   "id": "2f38267b",
   "metadata": {},
   "source": [
    "### Question No(25)  li = ['Satya','Pavs','Bilal','Yash','Himan',2,32,283,20,387,28,19] Get  only the names from the list using break statement in the loop?"
   ]
  },
  {
   "cell_type": "code",
   "execution_count": 41,
   "id": "cdfa63c9",
   "metadata": {},
   "outputs": [],
   "source": [
    "li = ['Satya','Pavs','Bilal','Yash','Himan',2,32,283,20,387,28,19] "
   ]
  },
  {
   "cell_type": "code",
   "execution_count": 42,
   "id": "d75d4186",
   "metadata": {},
   "outputs": [
    {
     "name": "stdout",
     "output_type": "stream",
     "text": [
      "Satya\n",
      "Pavs\n",
      "Bilal\n",
      "Yash\n",
      "Himan\n"
     ]
    }
   ],
   "source": [
    "for i in li:\n",
    "    if type(i) == int:\n",
    "        break\n",
    "    print(i)"
   ]
  },
  {
   "cell_type": "markdown",
   "id": "b4615e38",
   "metadata": {},
   "source": [
    "### Question No(26) Take a input number from the user and check whether it is prime or not?"
   ]
  },
  {
   "cell_type": "code",
   "execution_count": 44,
   "id": "2bbacddd",
   "metadata": {},
   "outputs": [
    {
     "name": "stdout",
     "output_type": "stream",
     "text": [
      "enter a number85\n",
      "85 not a prime number\n"
     ]
    }
   ],
   "source": [
    "a = int(input(\"enter a number\"))\n",
    "if a<2:\n",
    "    print(a,\"not a prime number\")\n",
    "else:\n",
    "    for i in range(2,a):\n",
    "        if a%i==0:\n",
    "            print(a,\"not a prime number\")\n",
    "            break\n",
    "    else:\n",
    "        print(a,\"prime number\")"
   ]
  },
  {
   "cell_type": "markdown",
   "id": "75da7bc3",
   "metadata": {},
   "source": [
    "**continue: it skips the present position and moves to the next position.continue does not terminate the loop.**"
   ]
  },
  {
   "cell_type": "markdown",
   "id": "dca49537",
   "metadata": {},
   "source": [
    "### Question No(27) lis = ['Satya',21,56,'Pavs',72,90,16,'Bilal',56,'Yash',81,67,'Himan',34] Get only the names from given list?"
   ]
  },
  {
   "cell_type": "code",
   "execution_count": 46,
   "id": "2ea64447",
   "metadata": {},
   "outputs": [
    {
     "name": "stdout",
     "output_type": "stream",
     "text": [
      "Satya\n",
      "Pavs\n",
      "Bilal\n",
      "Yash\n",
      "Himan\n"
     ]
    }
   ],
   "source": [
    " lis = ['Satya',21,56,'Pavs',72,90,16,'Bilal',56,'Yash',81,67,'Himan',34]\n",
    "\n",
    "i = 0\n",
    "while i< len(lis):\n",
    "    if type(lis[i]) == int:\n",
    "        i = i + 1\n",
    "        continue\n",
    "    print(lis[i])\n",
    "    i = i + 1 "
   ]
  },
  {
   "cell_type": "markdown",
   "id": "bb794722",
   "metadata": {},
   "source": [
    "### Question No(28)  ['Satya',21,56,'Pavs',72,90,16,'Bilal',56,'Yash',81,67,'Himan',34] Get only the numbers from given list?"
   ]
  },
  {
   "cell_type": "code",
   "execution_count": 47,
   "id": "0a5b4b68",
   "metadata": {},
   "outputs": [
    {
     "name": "stdout",
     "output_type": "stream",
     "text": [
      "21\n",
      "56\n",
      "72\n",
      "90\n",
      "16\n",
      "56\n",
      "81\n",
      "67\n",
      "34\n"
     ]
    }
   ],
   "source": [
    " lis = ['Satya',21,56,'Pavs',72,90,16,'Bilal',56,'Yash',81,67,'Himan',34]\n",
    "\n",
    "i = 0\n",
    "while i< len(lis):\n",
    "    if type(lis[i]) == str:\n",
    "        i = i + 1\n",
    "        continue\n",
    "    print(lis[i])\n",
    "    i = i + 1 "
   ]
  },
  {
   "cell_type": "markdown",
   "id": "0ccc9d3e",
   "metadata": {},
   "source": [
    "### Question No(29) Print only the odd numbers between 1 to 10 using continue statement?"
   ]
  },
  {
   "cell_type": "code",
   "execution_count": 50,
   "id": "26ffb3e4",
   "metadata": {},
   "outputs": [
    {
     "name": "stdout",
     "output_type": "stream",
     "text": [
      "1\n",
      "3\n",
      "5\n",
      "7\n",
      "9\n"
     ]
    }
   ],
   "source": [
    "for i in range(1,10):\n",
    "    if i%2==0:\n",
    "        continue\n",
    "    print(i)    "
   ]
  },
  {
   "cell_type": "markdown",
   "id": "e0be9001",
   "metadata": {},
   "source": [
    "**Pass: it is just pass the loop.**"
   ]
  },
  {
   "cell_type": "markdown",
   "id": "2ff02c68",
   "metadata": {},
   "source": [
    "### Question No(30) Using pass statement print only the even numbers between 1 to 11?"
   ]
  },
  {
   "cell_type": "code",
   "execution_count": 53,
   "id": "a7015a1c",
   "metadata": {},
   "outputs": [
    {
     "name": "stdout",
     "output_type": "stream",
     "text": [
      "2\n",
      "4\n",
      "6\n",
      "8\n"
     ]
    }
   ],
   "source": [
    "for i in range(1,10):\n",
    "    if i %2==0:\n",
    "        pass\n",
    "        print(i)"
   ]
  },
  {
   "cell_type": "markdown",
   "id": "0319858b",
   "metadata": {},
   "source": [
    "## List Comprehensions"
   ]
  },
  {
   "cell_type": "markdown",
   "id": "1dc7c9e7",
   "metadata": {},
   "source": [
    "### Question No(31) p = [14,102,121,23,130,26,34,45,148,131,128,21,118,133,144,44,33] From the given list , get only odd numbers and add them into a new list after multiplying them with 1000?"
   ]
  },
  {
   "cell_type": "code",
   "execution_count": 54,
   "id": "4ced35b9",
   "metadata": {},
   "outputs": [
    {
     "name": "stdout",
     "output_type": "stream",
     "text": [
      "[121000, 23000, 45000, 131000, 21000, 133000, 33000]\n"
     ]
    }
   ],
   "source": [
    " p = [14,102,121,23,130,26,34,45,148,131,128,21,118,133,144,44,33]\n",
    "    \n",
    "\n",
    "output=[(i*1000)for i in p if i%2!=0]\n",
    "print(output)    \n",
    "    "
   ]
  },
  {
   "cell_type": "markdown",
   "id": "6257c933",
   "metadata": {},
   "source": [
    "### Question No(32) l = [10,20,30,40,50,60] add the data which is divisible by 3 in a new list after multiplying each number by 10?"
   ]
  },
  {
   "cell_type": "code",
   "execution_count": 55,
   "id": "3fb77013",
   "metadata": {},
   "outputs": [
    {
     "data": {
      "text/plain": [
       "[300, 600]"
      ]
     },
     "execution_count": 55,
     "metadata": {},
     "output_type": "execute_result"
    }
   ],
   "source": [
    " l = [10,20,30,40,50,60] \n",
    "    \n",
    "    \n",
    "output = [(i*10) for i in l if i%3==0]\n",
    "output"
   ]
  },
  {
   "cell_type": "markdown",
   "id": "b07d7267",
   "metadata": {},
   "source": [
    "### Question No(33)      ['Himanshu','Swagath','Vijay','Gaya','Siddhant','Pavithra','Dhivya','Chetan','Bilal','Yashwanth','Yash','Jyothi','Shiny','Kajol','Jaspreet','Shankar','Rasika','Akash','Satyajit'] =names, enter the lengths of each name which is present at even indexes in a new list?"
   ]
  },
  {
   "cell_type": "code",
   "execution_count": 56,
   "id": "f2edda44",
   "metadata": {},
   "outputs": [
    {
     "data": {
      "text/plain": [
       "[8, 5, 8, 6, 5, 4, 5, 8, 6, 8]"
      ]
     },
     "execution_count": 56,
     "metadata": {},
     "output_type": "execute_result"
    }
   ],
   "source": [
    "names = ['Himanshu','Swagath','Vijay','Gaya','Siddhant','Pavithra','Dhivya','Chetan','Bilal','Yashwanth','Yash','Jyothi','Shiny','Kajol','Jaspreet','Shankar','Rasika','Akash','Satyajit']\n",
    "\n",
    "output_lengths = [(len(names[i])) for i in range(len(names)) if i%2==0]\n",
    "output_lengths"
   ]
  },
  {
   "cell_type": "markdown",
   "id": "b9271b46",
   "metadata": {},
   "source": [
    "### Question No(34)  ['Himanshu','Swagath','Vijay','Gaya','Siddhant','Pavithra','Dhivya','Chetan','Bilal','Yashwanth','Yash','Jyothi','Shiny','Kajol','Jaspreet','Shankar','Rasika','Akash','Satyajit'] = names  From the given list if the length of the name is odd, then store the name in Upper case and if the length of the name is even, then store the name in Lower case?"
   ]
  },
  {
   "cell_type": "code",
   "execution_count": 57,
   "id": "e3802b50",
   "metadata": {},
   "outputs": [
    {
     "name": "stdout",
     "output_type": "stream",
     "text": [
      "['himanshu', 'SWAGATH', 'VIJAY', 'gaya', 'siddhant', 'pavithra', 'dhivya', 'chetan', 'BILAL', 'YASHWANTH', 'yash', 'jyothi', 'SHINY', 'KAJOL', 'jaspreet', 'SHANKAR', 'rasika', 'AKASH', 'satyajit']\n"
     ]
    }
   ],
   "source": [
    "names = ['Himanshu','Swagath','Vijay','Gaya','Siddhant','Pavithra','Dhivya','Chetan','Bilal','Yashwanth','Yash','Jyothi','Shiny','Kajol','Jaspreet','Shankar','Rasika','Akash','Satyajit']\n",
    "\n",
    "output=[i.upper() if len(i)%2!=0 else i.lower() for i in names ]\n",
    "print(output)\n"
   ]
  },
  {
   "cell_type": "markdown",
   "id": "7605e1e0",
   "metadata": {},
   "source": [
    "### Question No(35)  [101,23.5,102,24.6,103,31.2,104,32.4,105,25.6,106,34.5,107,31.5,108,40.6,109,41.5,110,36.5] = emp  In the list, ten employees ids and their salaries are given. You have to store their salaries in a new list after multiplying each value with 1000?"
   ]
  },
  {
   "cell_type": "code",
   "execution_count": 58,
   "id": "4d54fe07",
   "metadata": {},
   "outputs": [
    {
     "name": "stdout",
     "output_type": "stream",
     "text": [
      "[23500.0, 24000, 6000, 31200.0, 32400.0, 25600.0, 34500.0, 31500.0, 40600.0, 41500.0, 36500.0]\n"
     ]
    }
   ],
   "source": [
    "emp = [101,23.5,102,24,6,103,31.2,104,32.4,105,25.6,106,34.5,107,31.5,108,40.6,109,41.5,110,36.5]\n",
    "\n",
    "Emp=[(i*1000) for i in emp if i<100]\n",
    "print(Emp)"
   ]
  },
  {
   "cell_type": "markdown",
   "id": "3e7f7d01",
   "metadata": {},
   "source": [
    "### Question No(36) l = ['Mr Samuel Jacobs A','Mr Gagan Anand B','Mrs Mamta Upadhyay A','Mrs Aditya Smith B','Mr Kapil Gupta A','Mr Ajay Malhotra B','Mrs Shalini Iyer A','Mrs Meenakshi Iyer B']  From the list, store the names of only females from both the blocks and store them in two new lists A_block and B_block?"
   ]
  },
  {
   "cell_type": "code",
   "execution_count": 62,
   "id": "7189f8f2",
   "metadata": {},
   "outputs": [],
   "source": [
    "l = ['Mr Samuel Jacobs A','Mr Gagan Anand B','Mrs Mamta Upadhyay A','Mrs Aditya Smith B','Mr Kapil Gupta A','Mr Ajay Malhotra B','Mrs Shalini Iyer A','Mrs Meenakshi Iyer B']\n",
    "\n",
    "\n",
    "A_block = [ i  for i in l if i.startswith('Mrs') and i.endswith(\"A\")]\n",
    "B_block = [ i  for i in l if i.startswith('Mrs') and i.endswith(\"B\")]"
   ]
  },
  {
   "cell_type": "code",
   "execution_count": 63,
   "id": "2cabe0e2",
   "metadata": {},
   "outputs": [
    {
     "data": {
      "text/plain": [
       "['Mrs Mamta Upadhyay A', 'Mrs Shalini Iyer A']"
      ]
     },
     "execution_count": 63,
     "metadata": {},
     "output_type": "execute_result"
    }
   ],
   "source": [
    "A_block"
   ]
  },
  {
   "cell_type": "code",
   "execution_count": 64,
   "id": "2d6e4ae0",
   "metadata": {},
   "outputs": [
    {
     "data": {
      "text/plain": [
       "['Mrs Aditya Smith B', 'Mrs Meenakshi Iyer B']"
      ]
     },
     "execution_count": 64,
     "metadata": {},
     "output_type": "execute_result"
    }
   ],
   "source": [
    "B_block "
   ]
  },
  {
   "cell_type": "markdown",
   "id": "c33fa822",
   "metadata": {},
   "source": [
    "## Set Comprehension"
   ]
  },
  {
   "cell_type": "markdown",
   "id": "44a81e5b",
   "metadata": {},
   "source": [
    "### Question No(37) num={25,36,56,78,90} create a new set containing the squares of the numbers?"
   ]
  },
  {
   "cell_type": "code",
   "execution_count": 65,
   "id": "c9390ded",
   "metadata": {},
   "outputs": [
    {
     "data": {
      "text/plain": [
       "{625, 1296, 3136, 6084, 8100}"
      ]
     },
     "execution_count": 65,
     "metadata": {},
     "output_type": "execute_result"
    }
   ],
   "source": [
    "num={25,36,56,78,90} \n",
    "\n",
    "squares={i**2 for i in num}\n",
    "squares\n"
   ]
  },
  {
   "cell_type": "markdown",
   "id": "89c2866f",
   "metadata": {},
   "source": [
    "### Question No(38)  p= {12,13,34,31,46,17,18,19,67,40,41,21,77,84,55} create a new set containing the odd numbers?"
   ]
  },
  {
   "cell_type": "code",
   "execution_count": 72,
   "id": "97aec919",
   "metadata": {},
   "outputs": [
    {
     "data": {
      "text/plain": [
       "{13, 17, 19, 21, 31, 41, 55, 67, 77}"
      ]
     },
     "execution_count": 72,
     "metadata": {},
     "output_type": "execute_result"
    }
   ],
   "source": [
    " p= {12,13,34,31,46,17,18,19,67,40,41,21,77,84,55}\n",
    "    \n",
    "odd_numbers={i for i in p if i%2!=0}\n",
    "odd_numbers"
   ]
  },
  {
   "cell_type": "markdown",
   "id": "c1310709",
   "metadata": {},
   "source": [
    "### Question No(39) l = {'Mr Samuel Jacobs A','Mr Gagan Anand B','Mrs Mamta Upadhyay A','Mrs Aditya Smith B','Mr Kapil Gupta A','Mr Ajay Malhotra B','Mrs Shalini Iyer A','Mrs Meenakshi Iyer B'} create a new set containing only female names?"
   ]
  },
  {
   "cell_type": "code",
   "execution_count": 74,
   "id": "d281127f",
   "metadata": {},
   "outputs": [
    {
     "name": "stdout",
     "output_type": "stream",
     "text": [
      "{'Mrs Mamta Upadhyay A', 'Mrs Aditya Smith B', 'Mrs Meenakshi Iyer B', 'Mrs Shalini Iyer A'}\n"
     ]
    }
   ],
   "source": [
    "l = {'Mr Samuel Jacobs A','Mr Gagan Anand B','Mrs Mamta Upadhyay A','Mrs Aditya Smith B','Mr Kapil Gupta A','Mr Ajay Malhotra B','Mrs Shalini Iyer A','Mrs Meenakshi Iyer B'}\n",
    "\n",
    "female_names={i for i in l if i.startswith(\"Mrs\")}\n",
    "print(female_names)"
   ]
  },
  {
   "cell_type": "markdown",
   "id": "62e2b779",
   "metadata": {},
   "source": [
    "## Dictionary Comprehension"
   ]
  },
  {
   "cell_type": "markdown",
   "id": "a476f951",
   "metadata": {},
   "source": [
    "### Question No(40) ['Normal','Normal','Normal','Normal','Fraud','Normal','Normal','Normal','Normal','Normal','Normal','Normal','Normal','Fraud','Normal','Normal','Fraud','Normal','Normal','Normal','Normal','Normal','Normal','Fraud','Normal','Normal','Normal','Normal','Normal','Normal','Normal','Normal','Fraud','Normal','Normal','Fraud','Normal','Normal'] = data  Find the count of fraud?"
   ]
  },
  {
   "cell_type": "code",
   "execution_count": 61,
   "id": "54f4618c",
   "metadata": {},
   "outputs": [
    {
     "data": {
      "text/plain": [
       "{'Normal': 32, 'Fraud': 6}"
      ]
     },
     "execution_count": 61,
     "metadata": {},
     "output_type": "execute_result"
    }
   ],
   "source": [
    "data = ['Normal','Normal','Normal','Normal','Fraud','Normal','Normal','Normal','Normal','Normal','Normal','Normal','Normal','Fraud','Normal','Normal','Fraud','Normal','Normal','Normal','Normal','Normal','Normal','Fraud','Normal','Normal','Normal','Normal','Normal','Normal','Normal','Normal','Fraud','Normal','Normal','Fraud','Normal','Normal']\n",
    "\n",
    "output={i:data.count(i)for i in data}\n",
    "output"
   ]
  },
  {
   "cell_type": "markdown",
   "id": "5a2f5bbb",
   "metadata": {},
   "source": [
    "### Question No(41)  names={'Alice','Bob','Charlie','David','Eve'} create a dictionary with name and length of the names?"
   ]
  },
  {
   "cell_type": "code",
   "execution_count": 66,
   "id": "95b509c2",
   "metadata": {},
   "outputs": [
    {
     "name": "stdout",
     "output_type": "stream",
     "text": [
      "{'David': 5, 'Bob': 3, 'Charlie': 7, 'Eve': 3, 'Alice': 5}\n"
     ]
    }
   ],
   "source": [
    "names={'Alice','Bob','Charlie','David','Eve'}\n",
    "\n",
    "name_lengths={name:len(name)for name in names}\n",
    "print(name_lengths)"
   ]
  },
  {
   "cell_type": "markdown",
   "id": "6de74580",
   "metadata": {},
   "source": [
    "### Question No(42) ['Himanshu218627','Swagath122','Vijay21','Gaya13210983','Siddhant1232143','Pavithra12328372080','Dhivya213','Chetan2321','Bilal213','Yashwanth23982093','Yash238029u309','Jyothi23098203u09','Shiny23230909','Kajol32013','Jaspreet213e','Shankar231','Rasika','Akash','Satyajit'] = names  create a new dictionary with names and length of names?"
   ]
  },
  {
   "cell_type": "code",
   "execution_count": 67,
   "id": "246e3b05",
   "metadata": {},
   "outputs": [
    {
     "name": "stdout",
     "output_type": "stream",
     "text": [
      "{'Himanshu218627': 14, 'Swagath122': 10, 'Vijay21': 7, 'Gaya13210983': 12, 'Siddhant1232143': 15, 'Pavithra12328372080': 19, 'Dhivya213': 9, 'Chetan2321': 10, 'Bilal213': 8, 'Yashwanth23982093': 17, 'Yash238029u309': 14, 'Jyothi23098203u09': 17, 'Shiny23230909': 13, 'Kajol32013': 10, 'Jaspreet213e': 12, 'Shankar231': 10, 'Rasika': 6, 'Akash': 5, 'Satyajit': 8}\n"
     ]
    }
   ],
   "source": [
    "names = ['Himanshu218627','Swagath122','Vijay21','Gaya13210983','Siddhant1232143','Pavithra12328372080','Dhivya213','Chetan2321','Bilal213','Yashwanth23982093','Yash238029u309','Jyothi23098203u09','Shiny23230909','Kajol32013','Jaspreet213e','Shankar231','Rasika','Akash','Satyajit']\n",
    "\n",
    "names_lengths={names:len(names)for names in names}\n",
    "print(names_lengths)"
   ]
  },
  {
   "cell_type": "markdown",
   "id": "9f3b8d28",
   "metadata": {},
   "source": [
    "### Question No(43)  {'MSD':'CSK','Virat':'RCB','Hardik':'MI','Rohit':'MI','Jadeja':'CSK','Conway':'CSK','Surya':'MI','ABD':'RCB','Gayle':'RCB','Bumrah':'MI','Raina':'CSK'}=ipl  create a new dictionary with output like {'CSK' :4,'RCB' :3,'MI' :4}?"
   ]
  },
  {
   "cell_type": "code",
   "execution_count": 75,
   "id": "0521f45d",
   "metadata": {},
   "outputs": [
    {
     "name": "stdout",
     "output_type": "stream",
     "text": [
      "{'CSK': 4, 'RCB': 3, 'MI': 4}\n"
     ]
    }
   ],
   "source": [
    "ipl = {'MSD':'CSK','Virat':'RCB','Hardik':'MI','Rohit':'MI','Jadeja':'CSK','Conway':'CSK','Surya':'MI','ABD':'RCB','Gayle':'RCB','Bumrah':'MI','Raina':'CSK'}\n",
    "\n",
    "\n",
    "ipl_values=list(ipl.values())\n",
    "ipl_keys=list(ipl.keys())\n",
    "\n",
    "count_ipl={i:ipl_values.count(i) for i in ipl_values}\n",
    "print(count_ipl)"
   ]
  },
  {
   "cell_type": "markdown",
   "id": "8ed28099",
   "metadata": {},
   "source": [
    "## User-Defined Function"
   ]
  },
  {
   "cell_type": "markdown",
   "id": "f6723214",
   "metadata": {},
   "source": [
    "### Question No(44) Create a UDF to  find the smallest  'n' digit number divisible by 'n'?"
   ]
  },
  {
   "cell_type": "code",
   "execution_count": 77,
   "id": "606ddf08",
   "metadata": {},
   "outputs": [
    {
     "data": {
      "text/plain": [
       "100002"
      ]
     },
     "execution_count": 77,
     "metadata": {},
     "output_type": "execute_result"
    }
   ],
   "source": [
    "def smallest_N(n):\n",
    "    s=pow(10,n-1)\n",
    "    l=pow(10,n)-1\n",
    "    j=[]\n",
    "    for i in range(s,l+1):\n",
    "        if i %n==0:\n",
    "            j.append(i)\n",
    "    return j[0]\n",
    "\n",
    "smallest_N(6)"
   ]
  },
  {
   "cell_type": "markdown",
   "id": "a92e42e5",
   "metadata": {},
   "source": [
    "### Question No(45)  Create a UDF which gives the factorial of any number?"
   ]
  },
  {
   "cell_type": "code",
   "execution_count": 80,
   "id": "861d6fd4",
   "metadata": {},
   "outputs": [
    {
     "data": {
      "text/plain": [
       "720"
      ]
     },
     "execution_count": 80,
     "metadata": {},
     "output_type": "execute_result"
    }
   ],
   "source": [
    "def num_fact(m):\n",
    "    f = 1\n",
    "    for i in range(2,m+1):   \n",
    "        f = f*i            \n",
    "    return f\n",
    "\n",
    "\n",
    "num_fact(6)\n"
   ]
  },
  {
   "cell_type": "markdown",
   "id": "77a0352a",
   "metadata": {},
   "source": [
    "### Question No(46) create a UDF which take a username as an input and password as an input and your favorite question as an input.if the password ,username and question matches: print(\"Welecome to the lab\") else print(\"Security Alarms Activated\")?"
   ]
  },
  {
   "cell_type": "code",
   "execution_count": 81,
   "id": "9d19edc6",
   "metadata": {},
   "outputs": [
    {
     "name": "stdout",
     "output_type": "stream",
     "text": [
      "Enter the username:Bad morning\n",
      "Enter the password:Go to hell\n",
      "Enter the question:Boss name?\n",
      "welecome to the lab\n"
     ]
    }
   ],
   "source": [
    "def cyb_sec(u,p,q):\n",
    "    return\n",
    "u=input(\"Enter the username:\")\n",
    "p=input(\"Enter the password:\")\n",
    "q=input(\"Enter the question:\")\n",
    "\n",
    "if u==\"Bad morning\" and p==\"Go to hell\" and q==\"Boss name?\":\n",
    "    print(\"welecome to the lab\")\n",
    "else:\n",
    "    print(\"security alarms activated\")"
   ]
  },
  {
   "cell_type": "markdown",
   "id": "1f589a08",
   "metadata": {},
   "source": [
    "### Question No(47) Create a UDF to  find the greatest 'n' digit number divisible by 'n'?"
   ]
  },
  {
   "cell_type": "code",
   "execution_count": 86,
   "id": "1268b291",
   "metadata": {},
   "outputs": [
    {
     "data": {
      "text/plain": [
       "999996"
      ]
     },
     "execution_count": 86,
     "metadata": {},
     "output_type": "execute_result"
    }
   ],
   "source": [
    "def greatest_N(n):\n",
    "    g=pow(10,n)-1\n",
    "    l=pow(10,n-1)\n",
    "    j=[]\n",
    "    for i in range(g,l,-1):\n",
    "        if i %n==0:\n",
    "            j.append(i)\n",
    "    return j[0]\n",
    "\n",
    "greatest_N(6)"
   ]
  },
  {
   "cell_type": "markdown",
   "id": "69ee3efb",
   "metadata": {},
   "source": [
    "## Lambda Function"
   ]
  },
  {
   "cell_type": "markdown",
   "id": "059f99aa",
   "metadata": {},
   "source": [
    "### Question No(48)  [23.456,34.987,60.2826,27.2727,14.3898,9.2272,15.878937] = data , Using the lambda function, you have to get the floor value of each of the value given in the original list?"
   ]
  },
  {
   "cell_type": "code",
   "execution_count": 82,
   "id": "5ecee032",
   "metadata": {},
   "outputs": [
    {
     "data": {
      "text/plain": [
       "[4, 6, 12, 5, 2, 1, 3]"
      ]
     },
     "execution_count": 82,
     "metadata": {},
     "output_type": "execute_result"
    }
   ],
   "source": [
    "data = [23.456,34.987,60.2826,27.2727,14.3898,9.2272,15.878937]\n",
    "\n",
    "list(map(lambda i:int(i//5),data))"
   ]
  },
  {
   "cell_type": "markdown",
   "id": "a5467265",
   "metadata": {},
   "source": [
    "### Question No(49)  F = [12,35,66,9,96,25,39,33,45,48,60,72,77,84,91,3,21] Get those even values which are greater than 50 from the list using lambda function?"
   ]
  },
  {
   "cell_type": "code",
   "execution_count": 83,
   "id": "d0f1d204",
   "metadata": {},
   "outputs": [
    {
     "data": {
      "text/plain": [
       "[66, 96, 60, 72, 84]"
      ]
     },
     "execution_count": 83,
     "metadata": {},
     "output_type": "execute_result"
    }
   ],
   "source": [
    "F = [12,35,66,9,96,25,39,33,45,48,60,72,77,84,91,3,21]\n",
    "\n",
    "list(filter(lambda i:i%2==0 and i>50,F))"
   ]
  },
  {
   "cell_type": "markdown",
   "id": "3bfe749b",
   "metadata": {},
   "source": [
    "### Question No(50)  n = ['Himanshu','Yahswanth','Siddhant','Gaya','Kajol','Yash']  Display only the name whose length is greater than 5 using lambda function?"
   ]
  },
  {
   "cell_type": "code",
   "execution_count": 84,
   "id": "b2d7817f",
   "metadata": {},
   "outputs": [
    {
     "data": {
      "text/plain": [
       "['Himanshu', 'Yahswanth', 'Siddhant']"
      ]
     },
     "execution_count": 84,
     "metadata": {},
     "output_type": "execute_result"
    }
   ],
   "source": [
    "n = ['Himanshu','Yahswanth','Siddhant','Gaya','Kajol','Yash'] \n",
    "\n",
    "\n",
    "list(filter(lambda i: len(i)>5,n))"
   ]
  },
  {
   "cell_type": "markdown",
   "id": "38490106",
   "metadata": {},
   "source": [
    "# Inheritance "
   ]
  },
  {
   "cell_type": "markdown",
   "id": "cf3dbfb4",
   "metadata": {},
   "source": [
    "**(1) Single Inheritance**"
   ]
  },
  {
   "cell_type": "markdown",
   "id": "6c2f6367",
   "metadata": {},
   "source": [
    "### Question No(51) Create a single inheritance?"
   ]
  },
  {
   "cell_type": "code",
   "execution_count": 1,
   "id": "e770bbcb",
   "metadata": {},
   "outputs": [
    {
     "name": "stdout",
     "output_type": "stream",
     "text": [
      "The model of light is LED and the brand Philips \n",
      "it is a natural source.\n"
     ]
    }
   ],
   "source": [
    "class light:\n",
    "    model=\"LED\"\n",
    "    brand=\"Philips\"\n",
    "    def display_features(self):\n",
    "        print(f\"The model of light is {self.model} and the brand {self.brand} \")\n",
    "        \n",
    "class solar(light):\n",
    "    def solar_features(self):\n",
    "        print(\"it is a natural source.\")\n",
    "        \n",
    "obj=solar()\n",
    "obj.display_features()\n",
    "obj.solar_features()"
   ]
  },
  {
   "cell_type": "markdown",
   "id": "ca1f3010",
   "metadata": {},
   "source": [
    "### Question No(52) Create a single inheritance of class car?"
   ]
  },
  {
   "cell_type": "code",
   "execution_count": 5,
   "id": "d343cde9",
   "metadata": {},
   "outputs": [
    {
     "name": "stdout",
     "output_type": "stream",
     "text": [
      "Honda city is the powerful model of Honda and the most favourite color is Blue.\n",
      " honda amaze is most popular car.\n"
     ]
    }
   ],
   "source": [
    "class car:\n",
    "    color=\"Blue\"\n",
    "    Brand=\"Honda\"\n",
    "    Model=\"Honda city\"\n",
    "    def display_car(self):\n",
    "        print(f\"{self.Model} is the powerful model of {self.Brand} and the most favourite color is {self.color}.\")\n",
    "        \n",
    "class model(car):\n",
    "    def display_model(self):\n",
    "        print(\" honda amaze is most popular car.\")\n",
    "        \n",
    "obj= model()\n",
    "obj.display_car()\n",
    "obj.display_model()"
   ]
  },
  {
   "cell_type": "markdown",
   "id": "157d1b24",
   "metadata": {},
   "source": [
    "### Question No(53) Create a inheritance to show one parent - child relationship?  "
   ]
  },
  {
   "cell_type": "code",
   "execution_count": 14,
   "id": "243573c6",
   "metadata": {},
   "outputs": [
    {
     "name": "stdout",
     "output_type": "stream",
     "text": [
      "The Lion is a large cat of the species Panthera leo and the category is Carnivorous.\n",
      "The Deer is a Herbivores animal of Cervidae species.\n"
     ]
    }
   ],
   "source": [
    "class Animals:\n",
    "    names=\"Lion\"\n",
    "    specie=\"Panthera leo\"\n",
    "    categories=\"Carnivorous\"\n",
    "    def animal_features(self):\n",
    "        print(f\"The {self.names} is a large cat of the species {self.specie} and the category is {self.categories}.\")\n",
    "        \n",
    "class Prey_animal(Animals):\n",
    "    name=\"Deer\"\n",
    "    species=\"Cervidae\"\n",
    "    category=\"Herbivores\"\n",
    "    def prey_feature(self):\n",
    "        print(f\"The {self.name} is a {self.category} animal of {self.species} species.\")\n",
    "        \n",
    "        \n",
    "obj= Prey_animal()\n",
    "obj.animal_features()\n",
    "obj.prey_feature()\n",
    "    "
   ]
  },
  {
   "cell_type": "markdown",
   "id": "4d7d5ab4",
   "metadata": {},
   "source": [
    "### Question No(54) Single Inheritance to show Manager and Employee relation ?"
   ]
  },
  {
   "cell_type": "code",
   "execution_count": 3,
   "id": "d6c36cc8",
   "metadata": {},
   "outputs": [
    {
     "data": {
      "text/plain": [
       "'Functional and technical master'"
      ]
     },
     "execution_count": 3,
     "metadata": {},
     "output_type": "execute_result"
    }
   ],
   "source": [
    "class Manager:\n",
    "    def senior(self):\n",
    "        return \"Functional and technical master\"\n",
    "    \n",
    "class Employee(Manager):\n",
    "    def junior(self):\n",
    "        return \"Fresher\"   \n",
    "    \n",
    "obj1 = Employee()\n",
    "obj1.senior()"
   ]
  },
  {
   "cell_type": "markdown",
   "id": "22a96c00",
   "metadata": {},
   "source": [
    "**(2) Multiple Inheritance**"
   ]
  },
  {
   "cell_type": "markdown",
   "id": "8280447d",
   "metadata": {},
   "source": [
    "### Question No(55) Create a Multiple Inheritance?"
   ]
  },
  {
   "cell_type": "code",
   "execution_count": 15,
   "id": "03d38fe1",
   "metadata": {},
   "outputs": [
    {
     "name": "stdout",
     "output_type": "stream",
     "text": [
      "ICIC mumbai branch.\n"
     ]
    }
   ],
   "source": [
    "class SBI:\n",
    "    def branch1(self):\n",
    "        print(\" SBI kerala branch.\")\n",
    "        \n",
    "class ICIC:\n",
    "    def branch2(self):\n",
    "        print(\"ICIC mumbai branch.\")\n",
    "        \n",
    "class BOI(SBI,ICIC):\n",
    "    def branch3(self):\n",
    "        print(\"BOI chennai branch\")\n",
    "        \n",
    "obj=BOI()\n",
    "obj.branch2()"
   ]
  },
  {
   "cell_type": "markdown",
   "id": "cf3936b6",
   "metadata": {},
   "source": [
    "### Question No(56) Create a inheritance to show multiple parent with one child relationship? "
   ]
  },
  {
   "cell_type": "code",
   "execution_count": 19,
   "id": "454ff34b",
   "metadata": {},
   "outputs": [
    {
     "name": "stdout",
     "output_type": "stream",
     "text": [
      "Engine started\n",
      "Engine stopped\n",
      "Wheels rolling\n",
      "Car is being driven\n"
     ]
    }
   ],
   "source": [
    "class Engine:\n",
    "    def start(self):\n",
    "        print(\"Engine started\")\n",
    "        \n",
    "    def stop(self):\n",
    "        print(\"Engine stopped\")\n",
    "        \n",
    "class Wheels:\n",
    "    def roll(self):\n",
    "        print(\"Wheels rolling\")\n",
    "        \n",
    "    def stop(self):\n",
    "        print(\"Wheels stopped\")\n",
    "        \n",
    "class Body:\n",
    "    def open_door(self):\n",
    "        print(\"Door opened\")\n",
    "        \n",
    "    def close_door(self):\n",
    "        print(\"Door closed\")\n",
    "        \n",
    "class Car(Engine, Wheels, Body):\n",
    "    def drive(self):\n",
    "        print(\"Car is being driven\")\n",
    "        \n",
    "obj=Car()\n",
    "obj.start()\n",
    "obj.stop()\n",
    "obj.roll()\n",
    "obj.drive()"
   ]
  },
  {
   "cell_type": "markdown",
   "id": "f4ffd414",
   "metadata": {},
   "source": [
    "### Question No(57) Multiple Inheritance to show the relation of Work from home, Work from Office and Hybrid?"
   ]
  },
  {
   "cell_type": "code",
   "execution_count": 4,
   "id": "a15dea1e",
   "metadata": {},
   "outputs": [
    {
     "data": {
      "text/plain": [
       "'timepass'"
      ]
     },
     "execution_count": 4,
     "metadata": {},
     "output_type": "execute_result"
    }
   ],
   "source": [
    "class WFO:\n",
    "    def office(self):\n",
    "        return \"meetings\"\n",
    "    \n",
    "class WFH:\n",
    "    def home(self):\n",
    "        return \"timepass\"   \n",
    "    \n",
    "class Hybrid(WFO,WFH):\n",
    "    def hybd(self):\n",
    "        return \"meetings + timepass\"\n",
    "    \n",
    "obj2 = Hybrid()\n",
    "obj2.home()"
   ]
  },
  {
   "cell_type": "markdown",
   "id": "fce51ec1",
   "metadata": {},
   "source": [
    "**(3) Multilevel Inheritance**"
   ]
  },
  {
   "cell_type": "markdown",
   "id": "f61b8125",
   "metadata": {},
   "source": [
    "### Question No(58) Create a multilevel inheritance? "
   ]
  },
  {
   "cell_type": "code",
   "execution_count": 1,
   "id": "9262c638",
   "metadata": {},
   "outputs": [
    {
     "data": {
      "text/plain": [
       "'India'"
      ]
     },
     "execution_count": 1,
     "metadata": {},
     "output_type": "execute_result"
    }
   ],
   "source": [
    "class country:\n",
    "    def task_1(self):\n",
    "        return \"India\"\n",
    "    \n",
    "class state(country):\n",
    "    def task_2(self):\n",
    "        return \"Kerala\"\n",
    "    \n",
    "class city(state):\n",
    "    def task_3(self):\n",
    "        return \"Thiruvananthapuram\"\n",
    "    \n",
    "obj=city()\n",
    "obj.task_1()"
   ]
  },
  {
   "cell_type": "markdown",
   "id": "e89f7f3c",
   "metadata": {},
   "source": [
    "### Question No(59)  Multilevel Inheritance  to show the iPhone 13, iPhone 14 and iPhone 15 relations?"
   ]
  },
  {
   "cell_type": "code",
   "execution_count": 5,
   "id": "6da7bc1d",
   "metadata": {},
   "outputs": [
    {
     "data": {
      "text/plain": [
       "'improved softwares, OS, hardware etc'"
      ]
     },
     "execution_count": 5,
     "metadata": {},
     "output_type": "execute_result"
    }
   ],
   "source": [
    "class iPhone13:\n",
    "    def method1(self):\n",
    "        return \"2021\"\n",
    "    \n",
    "class iPhone14(iPhone13):\n",
    "    def method2(self):\n",
    "        return \"2022\"   \n",
    "    \n",
    "class iPhone15(iPhone14):\n",
    "    def method3(self):\n",
    "        return \"improved softwares, OS, hardware etc\"\n",
    "    \n",
    "obj3 = iPhone15()\n",
    "obj3.method3()"
   ]
  },
  {
   "cell_type": "markdown",
   "id": "a0db41d3",
   "metadata": {},
   "source": [
    "**(4) Hierarchial Inheritance**"
   ]
  },
  {
   "cell_type": "markdown",
   "id": "e485b7cc",
   "metadata": {},
   "source": [
    "### Question No(60)  Create Hierarchial Inheritance in a company's organisational structure?"
   ]
  },
  {
   "cell_type": "code",
   "execution_count": 13,
   "id": "2a6b8c24",
   "metadata": {},
   "outputs": [
    {
     "name": "stdout",
     "output_type": "stream",
     "text": [
      "The mammal is sleeping.\n"
     ]
    }
   ],
   "source": [
    "class Animal:\n",
    "    def eat(self):\n",
    "        print(\"The animal is eating.\")\n",
    "\n",
    "class Mammal(Animal):\n",
    "    def sleep(self):\n",
    "        print(\"The mammal is sleeping.\")\n",
    "\n",
    "class Dog(Mammal):\n",
    "    def bark(self):\n",
    "        print(\"The dog is barking.\")\n",
    "\n",
    "class Cat(Mammal):\n",
    "    def meow(self):\n",
    "        print(\"The cat is meowing.\")\n",
    "        \n",
    "        \n",
    "obj=Cat()\n",
    "obj.sleep()"
   ]
  },
  {
   "cell_type": "markdown",
   "id": "c2e62c7b",
   "metadata": {},
   "source": [
    "**(5) Hybrid Inheritance**"
   ]
  },
  {
   "cell_type": "markdown",
   "id": "e78a29a2",
   "metadata": {},
   "source": [
    "### Question No(61) Create a Hybrid Inheritance?"
   ]
  },
  {
   "cell_type": "code",
   "execution_count": 19,
   "id": "4c9214a2",
   "metadata": {},
   "outputs": [
    {
     "name": "stdout",
     "output_type": "stream",
     "text": [
      "Mammal sound\n"
     ]
    }
   ],
   "source": [
    "class Animal:\n",
    "    def __init__(self, name):\n",
    "        self.name = name\n",
    "\n",
    "    def speak(self):\n",
    "        pass\n",
    "\n",
    "class Mammal(Animal):\n",
    "    def speak(self):\n",
    "        return \"Mammal sound\"\n",
    "\n",
    "class Bird(Animal):\n",
    "    def speak(self):\n",
    "        return \"Bird sound\"\n",
    "\n",
    "class Bat(Mammal, Bird):\n",
    "    def __init__(self, name):\n",
    "        super().__init__(name)\n",
    "        \n",
    "        \n",
    "bat = Bat(\"Batty\")\n",
    "print(bat.speak()) \n",
    "\n",
    "     "
   ]
  },
  {
   "cell_type": "markdown",
   "id": "26812ab3",
   "metadata": {},
   "source": [
    "## Polymorphism"
   ]
  },
  {
   "cell_type": "markdown",
   "id": "9bfd3f88",
   "metadata": {},
   "source": [
    "### Question No(62)  Create a program to show polymorphism?"
   ]
  },
  {
   "cell_type": "code",
   "execution_count": 20,
   "id": "baa96513",
   "metadata": {},
   "outputs": [
    {
     "name": "stdout",
     "output_type": "stream",
     "text": [
      "Woof!\n",
      "Meow!\n"
     ]
    }
   ],
   "source": [
    "class Animal:\n",
    "    def speak(self):\n",
    "        pass\n",
    "\n",
    "class Dog(Animal):\n",
    "    def speak(self):\n",
    "        return \"Woof!\"\n",
    "\n",
    "class Cat(Animal):\n",
    "    def speak(self):\n",
    "        return \"Meow!\"\n",
    "\n",
    "def make_animal_speak(animal):\n",
    "    print(animal.speak())\n",
    "\n",
    "dog = Dog()\n",
    "cat = Cat()\n",
    "\n",
    "make_animal_speak(dog) \n",
    "make_animal_speak(cat)  \n"
   ]
  },
  {
   "cell_type": "code",
   "execution_count": null,
   "id": "aa7f6645",
   "metadata": {},
   "outputs": [],
   "source": []
  }
 ],
 "metadata": {
  "kernelspec": {
   "display_name": "Python 3 (ipykernel)",
   "language": "python",
   "name": "python3"
  },
  "language_info": {
   "codemirror_mode": {
    "name": "ipython",
    "version": 3
   },
   "file_extension": ".py",
   "mimetype": "text/x-python",
   "name": "python",
   "nbconvert_exporter": "python",
   "pygments_lexer": "ipython3",
   "version": "3.11.5"
  }
 },
 "nbformat": 4,
 "nbformat_minor": 5
}
